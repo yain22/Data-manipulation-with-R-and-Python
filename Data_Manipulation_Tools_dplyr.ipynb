{
  "nbformat": 4,
  "nbformat_minor": 0,
  "metadata": {
    "colab": {
      "name": "Data Manipulation Tools: dplyr.ipynb",
      "provenance": [],
      "collapsed_sections": [],
      "authorship_tag": "ABX9TyOPq7vj9fdFWzfx6jVc7UNO",
      "include_colab_link": true
    },
    "kernelspec": {
      "name": "ir",
      "display_name": "R"
    }
  },
  "cells": [
    {
      "cell_type": "markdown",
      "metadata": {
        "id": "view-in-github",
        "colab_type": "text"
      },
      "source": [
        "<a href=\"https://colab.research.google.com/github/yain22/Data-manipulation-with-R-and-Python/blob/master/Data_Manipulation_Tools_dplyr.ipynb\" target=\"_parent\"><img src=\"https://colab.research.google.com/assets/colab-badge.svg\" alt=\"Open In Colab\"/></a>"
      ]
    },
    {
      "cell_type": "markdown",
      "metadata": {
        "id": "lbMDF9oaOACl",
        "colab_type": "text"
      },
      "source": [
        "Data Manipulation Tools: dplyr \n",
        "(https://www.youtube.com/watch?v=Zc_ufg4uW4U&list=PLNFT8B-1R8yU4uxEmbJlBLaJUhkyh3E_c&index=3&t=931s)"
      ]
    },
    {
      "cell_type": "code",
      "metadata": {
        "id": "_9S-YuXLNyMN",
        "colab_type": "code",
        "colab": {
          "base_uri": "https://localhost:8080/",
          "height": 587
        },
        "outputId": "c3c9085b-0ef0-43c1-c968-21a5cad4d6a9"
      },
      "source": [
        "install.packages(\"dplyr\") ; library(\"dplyr\")\n",
        "install.packages(\"tidyverse\") ; library(\"tidyverse\")\n",
        "\n",
        "# Data sets related to flights that departed from NYC in 2013\n",
        "install.packages(\"nycflights13\") ; library(\"nycflights13\")\n"
      ],
      "execution_count": null,
      "outputs": [
        {
          "output_type": "stream",
          "text": [
            "Installing package into ‘/usr/local/lib/R/site-library’\n",
            "(as ‘lib’ is unspecified)\n",
            "\n",
            "\n",
            "Attaching package: ‘dplyr’\n",
            "\n",
            "\n",
            "The following objects are masked from ‘package:stats’:\n",
            "\n",
            "    filter, lag\n",
            "\n",
            "\n",
            "The following objects are masked from ‘package:base’:\n",
            "\n",
            "    intersect, setdiff, setequal, union\n",
            "\n",
            "\n",
            "Installing package into ‘/usr/local/lib/R/site-library’\n",
            "(as ‘lib’ is unspecified)\n",
            "\n",
            "── \u001b[1mAttaching packages\u001b[22m ─────────────────────────────────────── tidyverse 1.3.0 ──\n",
            "\n",
            "\u001b[32m✔\u001b[39m \u001b[34mtibble \u001b[39m 3.0.3     \u001b[32m✔\u001b[39m \u001b[34mpurrr  \u001b[39m 0.3.4\n",
            "\u001b[32m✔\u001b[39m \u001b[34mtidyr  \u001b[39m 1.1.1     \u001b[32m✔\u001b[39m \u001b[34mstringr\u001b[39m 1.4.0\n",
            "\u001b[32m✔\u001b[39m \u001b[34mreadr  \u001b[39m 1.3.1     \u001b[32m✔\u001b[39m \u001b[34mforcats\u001b[39m 0.5.0\n",
            "\n",
            "── \u001b[1mConflicts\u001b[22m ────────────────────────────────────────── tidyverse_conflicts() ──\n",
            "\u001b[31m✖\u001b[39m \u001b[34mdplyr\u001b[39m::\u001b[32mfilter()\u001b[39m masks \u001b[34mstats\u001b[39m::filter()\n",
            "\u001b[31m✖\u001b[39m \u001b[34mdplyr\u001b[39m::\u001b[32mlag()\u001b[39m    masks \u001b[34mstats\u001b[39m::lag()\n",
            "\n",
            "Installing package into ‘/usr/local/lib/R/site-library’\n",
            "(as ‘lib’ is unspecified)\n",
            "\n"
          ],
          "name": "stderr"
        }
      ]
    },
    {
      "cell_type": "markdown",
      "metadata": {
        "id": "WoZilWcjRK-e",
        "colab_type": "text"
      },
      "source": [
        "# Key function in package \"dplyr\":\n",
        "1.   Extract existing variables : select()                      \n",
        "2.   Extract existing observations : filter()\n",
        "3.   Derive new variables (from existing variables): mutate()\n",
        "4.   Change the unit of analysis : summarise()\n"
      ]
    },
    {
      "cell_type": "markdown",
      "metadata": {
        "id": "umKJX1d6Uz5h",
        "colab_type": "text"
      },
      "source": [
        "# Examples of select()\n"
      ]
    },
    {
      "cell_type": "code",
      "metadata": {
        "id": "ySMQsz27RJKq",
        "colab_type": "code",
        "colab": {
          "base_uri": "https://localhost:8080/",
          "height": 203
        },
        "outputId": "155a2b49-bcf6-43ab-ea32-a4e7000e4de7"
      },
      "source": [
        "head(select(storms, name, pressure)) "
      ],
      "execution_count": null,
      "outputs": [
        {
          "output_type": "display_data",
          "data": {
            "text/plain": [
              "  name pressure\n",
              "1 Amy  1013    \n",
              "2 Amy  1013    \n",
              "3 Amy  1013    \n",
              "4 Amy  1013    \n",
              "5 Amy  1012    \n",
              "6 Amy  1012    "
            ],
            "text/latex": "A tibble: 6 × 2\n\\begin{tabular}{ll}\n name & pressure\\\\\n <chr> & <int>\\\\\n\\hline\n\t Amy & 1013\\\\\n\t Amy & 1013\\\\\n\t Amy & 1013\\\\\n\t Amy & 1013\\\\\n\t Amy & 1012\\\\\n\t Amy & 1012\\\\\n\\end{tabular}\n",
            "text/markdown": "\nA tibble: 6 × 2\n\n| name &lt;chr&gt; | pressure &lt;int&gt; |\n|---|---|\n| Amy | 1013 |\n| Amy | 1013 |\n| Amy | 1013 |\n| Amy | 1013 |\n| Amy | 1012 |\n| Amy | 1012 |\n\n",
            "text/html": [
              "<table>\n",
              "<caption>A tibble: 6 × 2</caption>\n",
              "<thead>\n",
              "\t<tr><th scope=col>name</th><th scope=col>pressure</th></tr>\n",
              "\t<tr><th scope=col>&lt;chr&gt;</th><th scope=col>&lt;int&gt;</th></tr>\n",
              "</thead>\n",
              "<tbody>\n",
              "\t<tr><td>Amy</td><td>1013</td></tr>\n",
              "\t<tr><td>Amy</td><td>1013</td></tr>\n",
              "\t<tr><td>Amy</td><td>1013</td></tr>\n",
              "\t<tr><td>Amy</td><td>1013</td></tr>\n",
              "\t<tr><td>Amy</td><td>1012</td></tr>\n",
              "\t<tr><td>Amy</td><td>1012</td></tr>\n",
              "</tbody>\n",
              "</table>\n"
            ]
          },
          "metadata": {
            "tags": []
          }
        }
      ]
    },
    {
      "cell_type": "code",
      "metadata": {
        "id": "9SevF6ktUKqI",
        "colab_type": "code",
        "colab": {
          "base_uri": "https://localhost:8080/",
          "height": 203
        },
        "outputId": "db669dd3-6000-47a4-f2ee-6d5173d4d2ed"
      },
      "source": [
        "head(select(storms, -pressure)) "
      ],
      "execution_count": null,
      "outputs": [
        {
          "output_type": "display_data",
          "data": {
            "text/plain": [
              "  name year month day hour lat  long  status              category wind\n",
              "1 Amy  1975 6     27   0   27.5 -79.0 tropical depression -1       25  \n",
              "2 Amy  1975 6     27   6   28.5 -79.0 tropical depression -1       25  \n",
              "3 Amy  1975 6     27  12   29.5 -79.0 tropical depression -1       25  \n",
              "4 Amy  1975 6     27  18   30.5 -79.0 tropical depression -1       25  \n",
              "5 Amy  1975 6     28   0   31.5 -78.8 tropical depression -1       25  \n",
              "6 Amy  1975 6     28   6   32.4 -78.7 tropical depression -1       25  \n",
              "  ts_diameter hu_diameter\n",
              "1 NA          NA         \n",
              "2 NA          NA         \n",
              "3 NA          NA         \n",
              "4 NA          NA         \n",
              "5 NA          NA         \n",
              "6 NA          NA         "
            ],
            "text/latex": "A tibble: 6 × 12\n\\begin{tabular}{llllllllllll}\n name & year & month & day & hour & lat & long & status & category & wind & ts\\_diameter & hu\\_diameter\\\\\n <chr> & <dbl> & <dbl> & <int> & <dbl> & <dbl> & <dbl> & <chr> & <ord> & <int> & <dbl> & <dbl>\\\\\n\\hline\n\t Amy & 1975 & 6 & 27 &  0 & 27.5 & -79.0 & tropical depression & -1 & 25 & NA & NA\\\\\n\t Amy & 1975 & 6 & 27 &  6 & 28.5 & -79.0 & tropical depression & -1 & 25 & NA & NA\\\\\n\t Amy & 1975 & 6 & 27 & 12 & 29.5 & -79.0 & tropical depression & -1 & 25 & NA & NA\\\\\n\t Amy & 1975 & 6 & 27 & 18 & 30.5 & -79.0 & tropical depression & -1 & 25 & NA & NA\\\\\n\t Amy & 1975 & 6 & 28 &  0 & 31.5 & -78.8 & tropical depression & -1 & 25 & NA & NA\\\\\n\t Amy & 1975 & 6 & 28 &  6 & 32.4 & -78.7 & tropical depression & -1 & 25 & NA & NA\\\\\n\\end{tabular}\n",
            "text/markdown": "\nA tibble: 6 × 12\n\n| name &lt;chr&gt; | year &lt;dbl&gt; | month &lt;dbl&gt; | day &lt;int&gt; | hour &lt;dbl&gt; | lat &lt;dbl&gt; | long &lt;dbl&gt; | status &lt;chr&gt; | category &lt;ord&gt; | wind &lt;int&gt; | ts_diameter &lt;dbl&gt; | hu_diameter &lt;dbl&gt; |\n|---|---|---|---|---|---|---|---|---|---|---|---|\n| Amy | 1975 | 6 | 27 |  0 | 27.5 | -79.0 | tropical depression | -1 | 25 | NA | NA |\n| Amy | 1975 | 6 | 27 |  6 | 28.5 | -79.0 | tropical depression | -1 | 25 | NA | NA |\n| Amy | 1975 | 6 | 27 | 12 | 29.5 | -79.0 | tropical depression | -1 | 25 | NA | NA |\n| Amy | 1975 | 6 | 27 | 18 | 30.5 | -79.0 | tropical depression | -1 | 25 | NA | NA |\n| Amy | 1975 | 6 | 28 |  0 | 31.5 | -78.8 | tropical depression | -1 | 25 | NA | NA |\n| Amy | 1975 | 6 | 28 |  6 | 32.4 | -78.7 | tropical depression | -1 | 25 | NA | NA |\n\n",
            "text/html": [
              "<table>\n",
              "<caption>A tibble: 6 × 12</caption>\n",
              "<thead>\n",
              "\t<tr><th scope=col>name</th><th scope=col>year</th><th scope=col>month</th><th scope=col>day</th><th scope=col>hour</th><th scope=col>lat</th><th scope=col>long</th><th scope=col>status</th><th scope=col>category</th><th scope=col>wind</th><th scope=col>ts_diameter</th><th scope=col>hu_diameter</th></tr>\n",
              "\t<tr><th scope=col>&lt;chr&gt;</th><th scope=col>&lt;dbl&gt;</th><th scope=col>&lt;dbl&gt;</th><th scope=col>&lt;int&gt;</th><th scope=col>&lt;dbl&gt;</th><th scope=col>&lt;dbl&gt;</th><th scope=col>&lt;dbl&gt;</th><th scope=col>&lt;chr&gt;</th><th scope=col>&lt;ord&gt;</th><th scope=col>&lt;int&gt;</th><th scope=col>&lt;dbl&gt;</th><th scope=col>&lt;dbl&gt;</th></tr>\n",
              "</thead>\n",
              "<tbody>\n",
              "\t<tr><td>Amy</td><td>1975</td><td>6</td><td>27</td><td> 0</td><td>27.5</td><td>-79.0</td><td>tropical depression</td><td>-1</td><td>25</td><td>NA</td><td>NA</td></tr>\n",
              "\t<tr><td>Amy</td><td>1975</td><td>6</td><td>27</td><td> 6</td><td>28.5</td><td>-79.0</td><td>tropical depression</td><td>-1</td><td>25</td><td>NA</td><td>NA</td></tr>\n",
              "\t<tr><td>Amy</td><td>1975</td><td>6</td><td>27</td><td>12</td><td>29.5</td><td>-79.0</td><td>tropical depression</td><td>-1</td><td>25</td><td>NA</td><td>NA</td></tr>\n",
              "\t<tr><td>Amy</td><td>1975</td><td>6</td><td>27</td><td>18</td><td>30.5</td><td>-79.0</td><td>tropical depression</td><td>-1</td><td>25</td><td>NA</td><td>NA</td></tr>\n",
              "\t<tr><td>Amy</td><td>1975</td><td>6</td><td>28</td><td> 0</td><td>31.5</td><td>-78.8</td><td>tropical depression</td><td>-1</td><td>25</td><td>NA</td><td>NA</td></tr>\n",
              "\t<tr><td>Amy</td><td>1975</td><td>6</td><td>28</td><td> 6</td><td>32.4</td><td>-78.7</td><td>tropical depression</td><td>-1</td><td>25</td><td>NA</td><td>NA</td></tr>\n",
              "</tbody>\n",
              "</table>\n"
            ]
          },
          "metadata": {
            "tags": []
          }
        }
      ]
    },
    {
      "cell_type": "code",
      "metadata": {
        "id": "lzLEgeUkUXev",
        "colab_type": "code",
        "colab": {
          "base_uri": "https://localhost:8080/",
          "height": 203
        },
        "outputId": "b65f6991-6ee7-403c-9ecb-fbbd477c9fd6"
      },
      "source": [
        "head(select(storms, day:pressure)) "
      ],
      "execution_count": null,
      "outputs": [
        {
          "output_type": "display_data",
          "data": {
            "text/plain": [
              "  day hour lat  long  status              category wind pressure\n",
              "1 27   0   27.5 -79.0 tropical depression -1       25   1013    \n",
              "2 27   6   28.5 -79.0 tropical depression -1       25   1013    \n",
              "3 27  12   29.5 -79.0 tropical depression -1       25   1013    \n",
              "4 27  18   30.5 -79.0 tropical depression -1       25   1013    \n",
              "5 28   0   31.5 -78.8 tropical depression -1       25   1012    \n",
              "6 28   6   32.4 -78.7 tropical depression -1       25   1012    "
            ],
            "text/latex": "A tibble: 6 × 8\n\\begin{tabular}{llllllll}\n day & hour & lat & long & status & category & wind & pressure\\\\\n <int> & <dbl> & <dbl> & <dbl> & <chr> & <ord> & <int> & <int>\\\\\n\\hline\n\t 27 &  0 & 27.5 & -79.0 & tropical depression & -1 & 25 & 1013\\\\\n\t 27 &  6 & 28.5 & -79.0 & tropical depression & -1 & 25 & 1013\\\\\n\t 27 & 12 & 29.5 & -79.0 & tropical depression & -1 & 25 & 1013\\\\\n\t 27 & 18 & 30.5 & -79.0 & tropical depression & -1 & 25 & 1013\\\\\n\t 28 &  0 & 31.5 & -78.8 & tropical depression & -1 & 25 & 1012\\\\\n\t 28 &  6 & 32.4 & -78.7 & tropical depression & -1 & 25 & 1012\\\\\n\\end{tabular}\n",
            "text/markdown": "\nA tibble: 6 × 8\n\n| day &lt;int&gt; | hour &lt;dbl&gt; | lat &lt;dbl&gt; | long &lt;dbl&gt; | status &lt;chr&gt; | category &lt;ord&gt; | wind &lt;int&gt; | pressure &lt;int&gt; |\n|---|---|---|---|---|---|---|---|\n| 27 |  0 | 27.5 | -79.0 | tropical depression | -1 | 25 | 1013 |\n| 27 |  6 | 28.5 | -79.0 | tropical depression | -1 | 25 | 1013 |\n| 27 | 12 | 29.5 | -79.0 | tropical depression | -1 | 25 | 1013 |\n| 27 | 18 | 30.5 | -79.0 | tropical depression | -1 | 25 | 1013 |\n| 28 |  0 | 31.5 | -78.8 | tropical depression | -1 | 25 | 1012 |\n| 28 |  6 | 32.4 | -78.7 | tropical depression | -1 | 25 | 1012 |\n\n",
            "text/html": [
              "<table>\n",
              "<caption>A tibble: 6 × 8</caption>\n",
              "<thead>\n",
              "\t<tr><th scope=col>day</th><th scope=col>hour</th><th scope=col>lat</th><th scope=col>long</th><th scope=col>status</th><th scope=col>category</th><th scope=col>wind</th><th scope=col>pressure</th></tr>\n",
              "\t<tr><th scope=col>&lt;int&gt;</th><th scope=col>&lt;dbl&gt;</th><th scope=col>&lt;dbl&gt;</th><th scope=col>&lt;dbl&gt;</th><th scope=col>&lt;chr&gt;</th><th scope=col>&lt;ord&gt;</th><th scope=col>&lt;int&gt;</th><th scope=col>&lt;int&gt;</th></tr>\n",
              "</thead>\n",
              "<tbody>\n",
              "\t<tr><td>27</td><td> 0</td><td>27.5</td><td>-79.0</td><td>tropical depression</td><td>-1</td><td>25</td><td>1013</td></tr>\n",
              "\t<tr><td>27</td><td> 6</td><td>28.5</td><td>-79.0</td><td>tropical depression</td><td>-1</td><td>25</td><td>1013</td></tr>\n",
              "\t<tr><td>27</td><td>12</td><td>29.5</td><td>-79.0</td><td>tropical depression</td><td>-1</td><td>25</td><td>1013</td></tr>\n",
              "\t<tr><td>27</td><td>18</td><td>30.5</td><td>-79.0</td><td>tropical depression</td><td>-1</td><td>25</td><td>1013</td></tr>\n",
              "\t<tr><td>28</td><td> 0</td><td>31.5</td><td>-78.8</td><td>tropical depression</td><td>-1</td><td>25</td><td>1012</td></tr>\n",
              "\t<tr><td>28</td><td> 6</td><td>32.4</td><td>-78.7</td><td>tropical depression</td><td>-1</td><td>25</td><td>1012</td></tr>\n",
              "</tbody>\n",
              "</table>\n"
            ]
          },
          "metadata": {
            "tags": []
          }
        }
      ]
    },
    {
      "cell_type": "markdown",
      "metadata": {
        "id": "5OswGxuRU-DN",
        "colab_type": "text"
      },
      "source": [
        "# Examples of filter()"
      ]
    },
    {
      "cell_type": "code",
      "metadata": {
        "id": "9jsJq6NQVAav",
        "colab_type": "code",
        "colab": {
          "base_uri": "https://localhost:8080/",
          "height": 203
        },
        "outputId": "71ef1917-209c-4783-e984-78937ddf7149"
      },
      "source": [
        "head(filter(storms, wind >=50)) # Logical test for the variable wind"
      ],
      "execution_count": null,
      "outputs": [
        {
          "output_type": "display_data",
          "data": {
            "text/plain": [
              "  name year month day hour lat  long  status         category wind pressure\n",
              "1 Amy  1975 6     29  18   33.8 -72.8 tropical storm 0        50   998     \n",
              "2 Amy  1975 6     30   0   34.3 -71.6 tropical storm 0        50   998     \n",
              "3 Amy  1975 6     30   6   35.6 -70.8 tropical storm 0        55   998     \n",
              "4 Amy  1975 6     30  12   35.9 -70.5 tropical storm 0        60   987     \n",
              "5 Amy  1975 6     30  18   36.2 -70.2 tropical storm 0        60   987     \n",
              "6 Amy  1975 7      1   0   36.2 -69.8 tropical storm 0        60   984     \n",
              "  ts_diameter hu_diameter\n",
              "1 NA          NA         \n",
              "2 NA          NA         \n",
              "3 NA          NA         \n",
              "4 NA          NA         \n",
              "5 NA          NA         \n",
              "6 NA          NA         "
            ],
            "text/latex": "A tibble: 6 × 13\n\\begin{tabular}{lllllllllllll}\n name & year & month & day & hour & lat & long & status & category & wind & pressure & ts\\_diameter & hu\\_diameter\\\\\n <chr> & <dbl> & <dbl> & <int> & <dbl> & <dbl> & <dbl> & <chr> & <ord> & <int> & <int> & <dbl> & <dbl>\\\\\n\\hline\n\t Amy & 1975 & 6 & 29 & 18 & 33.8 & -72.8 & tropical storm & 0 & 50 & 998 & NA & NA\\\\\n\t Amy & 1975 & 6 & 30 &  0 & 34.3 & -71.6 & tropical storm & 0 & 50 & 998 & NA & NA\\\\\n\t Amy & 1975 & 6 & 30 &  6 & 35.6 & -70.8 & tropical storm & 0 & 55 & 998 & NA & NA\\\\\n\t Amy & 1975 & 6 & 30 & 12 & 35.9 & -70.5 & tropical storm & 0 & 60 & 987 & NA & NA\\\\\n\t Amy & 1975 & 6 & 30 & 18 & 36.2 & -70.2 & tropical storm & 0 & 60 & 987 & NA & NA\\\\\n\t Amy & 1975 & 7 &  1 &  0 & 36.2 & -69.8 & tropical storm & 0 & 60 & 984 & NA & NA\\\\\n\\end{tabular}\n",
            "text/markdown": "\nA tibble: 6 × 13\n\n| name &lt;chr&gt; | year &lt;dbl&gt; | month &lt;dbl&gt; | day &lt;int&gt; | hour &lt;dbl&gt; | lat &lt;dbl&gt; | long &lt;dbl&gt; | status &lt;chr&gt; | category &lt;ord&gt; | wind &lt;int&gt; | pressure &lt;int&gt; | ts_diameter &lt;dbl&gt; | hu_diameter &lt;dbl&gt; |\n|---|---|---|---|---|---|---|---|---|---|---|---|---|\n| Amy | 1975 | 6 | 29 | 18 | 33.8 | -72.8 | tropical storm | 0 | 50 | 998 | NA | NA |\n| Amy | 1975 | 6 | 30 |  0 | 34.3 | -71.6 | tropical storm | 0 | 50 | 998 | NA | NA |\n| Amy | 1975 | 6 | 30 |  6 | 35.6 | -70.8 | tropical storm | 0 | 55 | 998 | NA | NA |\n| Amy | 1975 | 6 | 30 | 12 | 35.9 | -70.5 | tropical storm | 0 | 60 | 987 | NA | NA |\n| Amy | 1975 | 6 | 30 | 18 | 36.2 | -70.2 | tropical storm | 0 | 60 | 987 | NA | NA |\n| Amy | 1975 | 7 |  1 |  0 | 36.2 | -69.8 | tropical storm | 0 | 60 | 984 | NA | NA |\n\n",
            "text/html": [
              "<table>\n",
              "<caption>A tibble: 6 × 13</caption>\n",
              "<thead>\n",
              "\t<tr><th scope=col>name</th><th scope=col>year</th><th scope=col>month</th><th scope=col>day</th><th scope=col>hour</th><th scope=col>lat</th><th scope=col>long</th><th scope=col>status</th><th scope=col>category</th><th scope=col>wind</th><th scope=col>pressure</th><th scope=col>ts_diameter</th><th scope=col>hu_diameter</th></tr>\n",
              "\t<tr><th scope=col>&lt;chr&gt;</th><th scope=col>&lt;dbl&gt;</th><th scope=col>&lt;dbl&gt;</th><th scope=col>&lt;int&gt;</th><th scope=col>&lt;dbl&gt;</th><th scope=col>&lt;dbl&gt;</th><th scope=col>&lt;dbl&gt;</th><th scope=col>&lt;chr&gt;</th><th scope=col>&lt;ord&gt;</th><th scope=col>&lt;int&gt;</th><th scope=col>&lt;int&gt;</th><th scope=col>&lt;dbl&gt;</th><th scope=col>&lt;dbl&gt;</th></tr>\n",
              "</thead>\n",
              "<tbody>\n",
              "\t<tr><td>Amy</td><td>1975</td><td>6</td><td>29</td><td>18</td><td>33.8</td><td>-72.8</td><td>tropical storm</td><td>0</td><td>50</td><td>998</td><td>NA</td><td>NA</td></tr>\n",
              "\t<tr><td>Amy</td><td>1975</td><td>6</td><td>30</td><td> 0</td><td>34.3</td><td>-71.6</td><td>tropical storm</td><td>0</td><td>50</td><td>998</td><td>NA</td><td>NA</td></tr>\n",
              "\t<tr><td>Amy</td><td>1975</td><td>6</td><td>30</td><td> 6</td><td>35.6</td><td>-70.8</td><td>tropical storm</td><td>0</td><td>55</td><td>998</td><td>NA</td><td>NA</td></tr>\n",
              "\t<tr><td>Amy</td><td>1975</td><td>6</td><td>30</td><td>12</td><td>35.9</td><td>-70.5</td><td>tropical storm</td><td>0</td><td>60</td><td>987</td><td>NA</td><td>NA</td></tr>\n",
              "\t<tr><td>Amy</td><td>1975</td><td>6</td><td>30</td><td>18</td><td>36.2</td><td>-70.2</td><td>tropical storm</td><td>0</td><td>60</td><td>987</td><td>NA</td><td>NA</td></tr>\n",
              "\t<tr><td>Amy</td><td>1975</td><td>7</td><td> 1</td><td> 0</td><td>36.2</td><td>-69.8</td><td>tropical storm</td><td>0</td><td>60</td><td>984</td><td>NA</td><td>NA</td></tr>\n",
              "</tbody>\n",
              "</table>\n"
            ]
          },
          "metadata": {
            "tags": []
          }
        }
      ]
    }
  ]
}